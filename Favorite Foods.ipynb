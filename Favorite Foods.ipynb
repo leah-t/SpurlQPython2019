{
 "cells": [
  {
   "cell_type": "code",
   "execution_count": 6,
   "metadata": {},
   "outputs": [
    {
     "name": "stdout",
     "output_type": "stream",
     "text": [
      "['pizza', \"mac 'n cheese\", 'peanut butter and jelly sandwitch', 'grapes']\n"
     ]
    }
   ],
   "source": [
    "ffoodslist=[\"pizza\", \"mac 'n cheese\", \"peanut butter and jelly sandwitch\", \"grapes\"]\n",
    "print (ffoodslist)"
   ]
  },
  {
   "cell_type": "code",
   "execution_count": 7,
   "metadata": {},
   "outputs": [
    {
     "name": "stdout",
     "output_type": "stream",
     "text": [
      "pizza\n",
      "mac 'n'cheese\n",
      "penut butter and jelly sandwitch\n",
      "grapes\n"
     ]
    }
   ],
   "source": [
    "ffoodstuple = (\"pizza\",\"mac 'n'cheese\",\"penut butter and jelly sandwitch\",\"grapes\")\n",
    "for x in ffoodstuple:\n",
    "    print (x)\n"
   ]
  },
  {
   "cell_type": "code",
   "execution_count": 8,
   "metadata": {},
   "outputs": [
    {
     "name": "stdout",
     "output_type": "stream",
     "text": [
      "pizza\n",
      "mac 'n'cheese\n",
      "penut butter and jelly sandwitch\n",
      "grapes\n"
     ]
    }
   ],
   "source": [
    "ffoodsset = {\"pizza\",\"mac 'n'cheese\",\"penut butter and jelly sandwitch\",\"grapes\"}\n",
    "for x in ffoodsset:\n",
    "    print (x)"
   ]
  },
  {
   "cell_type": "code",
   "execution_count": 15,
   "metadata": {},
   "outputs": [
    {
     "name": "stdout",
     "output_type": "stream",
     "text": [
      "dinner\n",
      "breakfast\n",
      "dessert\n"
     ]
    }
   ],
   "source": [
    "ffoodsdict = {\"dinner\":\"pizza\",\"breakfast\":\"croissant\",\"dessert\":\"ice cream\"}\n",
    "for x in (ffoodsdict):\n",
    "    print (x)"
   ]
  },
  {
   "cell_type": "code",
   "execution_count": 22,
   "metadata": {},
   "outputs": [
    {
     "name": "stdout",
     "output_type": "stream",
     "text": [
      "pizza\n",
      "croissant\n",
      "ice cream\n"
     ]
    }
   ],
   "source": [
    "fffoodsdict = {\"pizza\":\"dinner\",\"croissant\":\"breakfast\",\"ice cream\":\"dessert\"}\n",
    "for x in fffoodsdict:\n",
    "    print (x)"
   ]
  },
  {
   "cell_type": "code",
   "execution_count": 24,
   "metadata": {},
   "outputs": [
    {
     "ename": "SyntaxError",
     "evalue": "invalid syntax (<ipython-input-24-291727863445>, line 2)",
     "output_type": "error",
     "traceback": [
      "\u001b[1;36m  File \u001b[1;32m\"<ipython-input-24-291727863445>\"\u001b[1;36m, line \u001b[1;32m2\u001b[0m\n\u001b[1;33m    while x < 10\u001b[0m\n\u001b[1;37m                ^\u001b[0m\n\u001b[1;31mSyntaxError\u001b[0m\u001b[1;31m:\u001b[0m invalid syntax\n"
     ]
    }
   ],
   "source": [
    "x=1\n",
    "while x < 10\n",
    "print (x)\n",
    "print + 1"
   ]
  },
  {
   "cell_type": "code",
   "execution_count": 23,
   "metadata": {},
   "outputs": [
    {
     "name": "stdout",
     "output_type": "stream",
     "text": [
      "i\n",
      "c\n",
      "e\n",
      " \n",
      "c\n",
      "r\n",
      "e\n",
      "a\n",
      "m\n"
     ]
    }
   ],
   "source": [
    "for item in x:\n",
    "    print (item)"
   ]
  }
 ],
 "metadata": {
  "kernelspec": {
   "display_name": "Python 3",
   "language": "python",
   "name": "python3"
  },
  "language_info": {
   "codemirror_mode": {
    "name": "ipython",
    "version": 3
   },
   "file_extension": ".py",
   "mimetype": "text/x-python",
   "name": "python",
   "nbconvert_exporter": "python",
   "pygments_lexer": "ipython3",
   "version": "3.7.3"
  }
 },
 "nbformat": 4,
 "nbformat_minor": 2
}
